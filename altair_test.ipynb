{
 "cells": [
  {
   "cell_type": "code",
   "execution_count": 2,
   "metadata": {},
   "outputs": [
    {
     "name": "stdout",
     "output_type": "stream",
     "text": [
      "/bin/sh: 1: pip: not found\r\n"
     ]
    },
    {
     "name": "stderr",
     "output_type": "stream",
     "text": [
      "/usr/local/lib/python3.7/site-packages/pandas/compat/__init__.py:85: UserWarning: Could not import the lzma module. Your installed Python is incomplete. Attempting to use lzma compression will result in a RuntimeError.\n",
      "  warnings.warn(msg)\n"
     ]
    }
   ],
   "source": [
    "!pip install altair pandas\n",
    "import pandas as pd\n",
    "\n",
    "import altair as alt"
   ]
  },
  {
   "cell_type": "code",
   "execution_count": 1,
   "metadata": {},
   "outputs": [
    {
     "ename": "NameError",
     "evalue": "name 'pd' is not defined",
     "output_type": "error",
     "traceback": [
      "\u001b[0;31m---------------------------------------------------------------------------\u001b[0m",
      "\u001b[0;31mNameError\u001b[0m                                 Traceback (most recent call last)",
      "\u001b[0;32m<ipython-input-1-93fabd1b967f>\u001b[0m in \u001b[0;36m<module>\u001b[0;34m\u001b[0m\n\u001b[0;32m----> 1\u001b[0;31m data = pd.DataFrame.from_records([\n\u001b[0m\u001b[1;32m      2\u001b[0m       \u001b[0;34m{\u001b[0m\u001b[0;34m\"x\"\u001b[0m\u001b[0;34m:\u001b[0m \u001b[0;34m\"Belt 1\"\u001b[0m\u001b[0;34m,\u001b[0m \u001b[0;34m\"y\"\u001b[0m\u001b[0;34m:\u001b[0m \u001b[0;36m1\u001b[0m\u001b[0;34m,\u001b[0m \u001b[0;34m}\u001b[0m\u001b[0;34m,\u001b[0m\u001b[0;34m\u001b[0m\u001b[0;34m\u001b[0m\u001b[0m\n\u001b[1;32m      3\u001b[0m       \u001b[0;34m{\u001b[0m\u001b[0;34m\"x\"\u001b[0m\u001b[0;34m:\u001b[0m \u001b[0;34m\"Belt 2\"\u001b[0m\u001b[0;34m,\u001b[0m \u001b[0;34m\"y\"\u001b[0m\u001b[0;34m:\u001b[0m \u001b[0;36m2\u001b[0m\u001b[0;34m,\u001b[0m \u001b[0;34m}\u001b[0m\u001b[0;34m,\u001b[0m\u001b[0;34m\u001b[0m\u001b[0;34m\u001b[0m\u001b[0m\n\u001b[1;32m      4\u001b[0m       \u001b[0;34m{\u001b[0m\u001b[0;34m\"x\"\u001b[0m\u001b[0;34m:\u001b[0m \u001b[0;34m\"Belt 3\"\u001b[0m\u001b[0;34m,\u001b[0m \u001b[0;34m\"y\"\u001b[0m\u001b[0;34m:\u001b[0m \u001b[0;36m4\u001b[0m\u001b[0;34m,\u001b[0m \u001b[0;34m}\u001b[0m\u001b[0;34m\u001b[0m\u001b[0;34m\u001b[0m\u001b[0m\n\u001b[1;32m      5\u001b[0m ])\n",
      "\u001b[0;31mNameError\u001b[0m: name 'pd' is not defined"
     ]
    }
   ],
   "source": [
    "data = pd.DataFrame.from_records([\n",
    "      {\"x\": \"Belt 1\", \"y\": 1, },\n",
    "      {\"x\": \"Belt 2\", \"y\": 2, },\n",
    "      {\"x\": \"Belt 3\", \"y\": 4, }\n",
    "])\n",
    "\n",
    "bars = alt.Chart(data).mark_bar().encode(\n",
    "    alt.X('y:Q', title=\"No. Of Baggages\"), \n",
    "    alt.Y('x:O', title=\"Belts\"),\n",
    "    \n",
    "    color = alt.condition(\n",
    "        alt.datum.y >= 4,\n",
    "        alt.value('orange'),\n",
    "        alt.value('steelblue'),\n",
    "    ),\n",
    ").configure_axis(\n",
    "    grid=False,\n",
    "    labelFontSize=18,\n",
    "    titleFontStyle='Courier', #This can be editted \n",
    "    titlePadding=13\n",
    ").configure_title(\n",
    "    fontSize=20,\n",
    "    font='Helvetica', #This can be editted\n",
    "    anchor='start',\n",
    "    color='gray'\n",
    ").properties(title=\"Arrival baggage belts\",height=300)\n",
    "\n",
    "bars"
   ]
  },
  {
   "cell_type": "code",
   "execution_count": 346,
   "metadata": {},
   "outputs": [
    {
     "data": {
      "text/html": [
       "\n",
       "<div id=\"altair-viz-2d0a418f26d247c8a0374849e1bb7a9c\"></div>\n",
       "<script type=\"text/javascript\">\n",
       "  (function(spec, embedOpt){\n",
       "    const outputDiv = document.getElementById(\"altair-viz-2d0a418f26d247c8a0374849e1bb7a9c\");\n",
       "    const paths = {\n",
       "      \"vega\": \"https://cdn.jsdelivr.net/npm//vega@5?noext\",\n",
       "      \"vega-lib\": \"https://cdn.jsdelivr.net/npm//vega-lib?noext\",\n",
       "      \"vega-lite\": \"https://cdn.jsdelivr.net/npm//vega-lite@4.0.2?noext\",\n",
       "      \"vega-embed\": \"https://cdn.jsdelivr.net/npm//vega-embed@6?noext\",\n",
       "    };\n",
       "\n",
       "    function loadScript(lib) {\n",
       "      return new Promise(function(resolve, reject) {\n",
       "        var s = document.createElement('script');\n",
       "        s.src = paths[lib];\n",
       "        s.async = true;\n",
       "        s.onload = () => resolve(paths[lib]);\n",
       "        s.onerror = () => reject(`Error loading script: ${paths[lib]}`);\n",
       "        document.getElementsByTagName(\"head\")[0].appendChild(s);\n",
       "      });\n",
       "    }\n",
       "\n",
       "    function showError(err) {\n",
       "      outputDiv.innerHTML = `<div class=\"error\" style=\"color:red;\">${err}</div>`;\n",
       "      throw err;\n",
       "    }\n",
       "\n",
       "    function displayChart(vegaEmbed) {\n",
       "      vegaEmbed(outputDiv, spec, embedOpt)\n",
       "        .catch(err => showError(`Javascript Error: ${err.message}<br>This usually means there's a typo in your chart specification. See the javascript console for the full traceback.`));\n",
       "    }\n",
       "\n",
       "    if(typeof define === \"function\" && define.amd) {\n",
       "      requirejs.config({paths});\n",
       "      require([\"vega-embed\"], displayChart, err => showError(`Error loading script: ${err.message}`));\n",
       "    } else if (typeof vegaEmbed === \"function\") {\n",
       "      displayChart(vegaEmbed);\n",
       "    } else {\n",
       "      loadScript(\"vega\")\n",
       "        .then(() => loadScript(\"vega-lite\"))\n",
       "        .then(() => loadScript(\"vega-embed\"))\n",
       "        .catch(showError)\n",
       "        .then(() => displayChart(vegaEmbed));\n",
       "    }\n",
       "  })({\"config\": {\"view\": {\"continuousWidth\": 400, \"continuousHeight\": 300}, \"axis\": {\"labelFontSize\": 18, \"titleFontStyle\": \"Courier\", \"titlePadding\": 15}, \"title\": {\"anchor\": \"start\", \"color\": \"gray\", \"font\": \"Calibri\", \"fontSize\": 20}}, \"data\": {\"name\": \"data-b9dd3bd77e4d94efc029f3e29126c39f\"}, \"mark\": {\"type\": \"area\", \"color\": \"lightblue\", \"interpolate\": \"step-after\", \"line\": true}, \"encoding\": {\"x\": {\"type\": \"temporal\", \"field\": \"date\", \"title\": \"Time\"}, \"y\": {\"type\": \"quantitative\", \"field\": \"y\", \"title\": \"No. Of passengers(%)\"}}, \"height\": 300, \"title\": \"Passenger Footfall\", \"width\": 600, \"$schema\": \"https://vega.github.io/schema/vega-lite/v4.0.2.json\", \"datasets\": {\"data-b9dd3bd77e4d94efc029f3e29126c39f\": [{\"date\": \"2010-01-01T00:00:00\", \"y\": 20}, {\"date\": \"2010-01-01T00:01:00\", \"y\": 27}, {\"date\": \"2010-01-01T00:02:00\", \"y\": 20}, {\"date\": \"2010-01-01T00:03:00\", \"y\": 40}, {\"date\": \"2010-01-01T00:04:00\", \"y\": 60}, {\"date\": \"2010-01-01T00:05:00\", \"y\": 70}]}}, {\"mode\": \"vega-lite\"});\n",
       "</script>"
      ],
      "text/plain": [
       "alt.Chart(...)"
      ]
     },
     "execution_count": 346,
     "metadata": {},
     "output_type": "execute_result"
    }
   ],
   "source": [
    "data = pd.DataFrame([\n",
    "    {'date': '2010-01-01T00:00:00', 'y': 20},\n",
    "    {'date': '2010-01-01T00:01:00', 'y': 27},\n",
    "    {'date': '2010-01-01T00:02:00', 'y': 20},\n",
    "    {'date': '2010-01-01T00:03:00', 'y': 40},\n",
    "    {'date': '2010-01-01T00:04:00', 'y': 60},\n",
    "    {'date': '2010-01-01T00:05:00', 'y': 70},\n",
    "])\n",
    "\n",
    "alt.Chart(data).mark_area(\n",
    "    color=\"lightblue\",\n",
    "    interpolate='step-after',\n",
    "    line=True\n",
    ").encode(\n",
    "    alt.X('date:T', title=\"Time\"), \n",
    "    alt.Y('y', title=\"No. Of passengers(%)\"),\n",
    ").configure_axis(\n",
    "    labelFontSize=18,\n",
    "    titlePadding=15,\n",
    "    titleFontStyle='Courier' #This can be editted\n",
    ").configure_title(\n",
    "    fontSize=20,\n",
    "    font='Calibri', #This can be editted\n",
    "    anchor='start',\n",
    "    color='gray'\n",
    ").properties(title=\"Passenger Footfall\",height=300, width=600)"
   ]
  },
  {
   "cell_type": "code",
   "execution_count": 357,
   "metadata": {},
   "outputs": [
    {
     "data": {
      "text/html": [
       "\n",
       "<div id=\"altair-viz-f40a631145994e83948235f25851375f\"></div>\n",
       "<script type=\"text/javascript\">\n",
       "  (function(spec, embedOpt){\n",
       "    const outputDiv = document.getElementById(\"altair-viz-f40a631145994e83948235f25851375f\");\n",
       "    const paths = {\n",
       "      \"vega\": \"https://cdn.jsdelivr.net/npm//vega@5?noext\",\n",
       "      \"vega-lib\": \"https://cdn.jsdelivr.net/npm//vega-lib?noext\",\n",
       "      \"vega-lite\": \"https://cdn.jsdelivr.net/npm//vega-lite@4.0.2?noext\",\n",
       "      \"vega-embed\": \"https://cdn.jsdelivr.net/npm//vega-embed@6?noext\",\n",
       "    };\n",
       "\n",
       "    function loadScript(lib) {\n",
       "      return new Promise(function(resolve, reject) {\n",
       "        var s = document.createElement('script');\n",
       "        s.src = paths[lib];\n",
       "        s.async = true;\n",
       "        s.onload = () => resolve(paths[lib]);\n",
       "        s.onerror = () => reject(`Error loading script: ${paths[lib]}`);\n",
       "        document.getElementsByTagName(\"head\")[0].appendChild(s);\n",
       "      });\n",
       "    }\n",
       "\n",
       "    function showError(err) {\n",
       "      outputDiv.innerHTML = `<div class=\"error\" style=\"color:red;\">${err}</div>`;\n",
       "      throw err;\n",
       "    }\n",
       "\n",
       "    function displayChart(vegaEmbed) {\n",
       "      vegaEmbed(outputDiv, spec, embedOpt)\n",
       "        .catch(err => showError(`Javascript Error: ${err.message}<br>This usually means there's a typo in your chart specification. See the javascript console for the full traceback.`));\n",
       "    }\n",
       "\n",
       "    if(typeof define === \"function\" && define.amd) {\n",
       "      requirejs.config({paths});\n",
       "      require([\"vega-embed\"], displayChart, err => showError(`Error loading script: ${err.message}`));\n",
       "    } else if (typeof vegaEmbed === \"function\") {\n",
       "      displayChart(vegaEmbed);\n",
       "    } else {\n",
       "      loadScript(\"vega\")\n",
       "        .then(() => loadScript(\"vega-lite\"))\n",
       "        .then(() => loadScript(\"vega-embed\"))\n",
       "        .catch(showError)\n",
       "        .then(() => displayChart(vegaEmbed));\n",
       "    }\n",
       "  })({\"config\": {\"view\": {\"continuousWidth\": 400, \"continuousHeight\": 300}}, \"layer\": [{\"mark\": {\"type\": \"point\", \"filled\": true, \"size\": 30}, \"encoding\": {\"color\": {\"condition\": {\"value\": \"orange\", \"test\": \"(datum.occupied === 1)\"}, \"value\": \"steelblue\"}, \"shape\": {\"value\": \"m 0 0 l 14 -15 a 5 5 0 0 1 9 8 l -14 15 l 9 26 l -4 5 l -12 -22 l -12 12 l 1 5 l -2 3 l -12 -11 l 3 -2 l 5 0 l 9 -14 l -19 -11 l 4 -3 l 22 4\"}, \"x\": {\"type\": \"ordinal\", \"axis\": null, \"field\": \"col\"}, \"y\": {\"type\": \"ordinal\", \"axis\": null, \"field\": \"row\"}}, \"height\": 700, \"title\": \"Available Parking\", \"transform\": [{\"calculate\": \"ceil(datum.id/5)\", \"as\": \"row\"}, {\"calculate\": \"datum.id - datum.row*5\", \"as\": \"col\"}], \"width\": 700}, {\"mark\": {\"type\": \"text\", \"align\": \"center\", \"baseline\": \"middle\", \"dx\": -3, \"dy\": -16, \"fontSize\": 25}, \"encoding\": {\"color\": {\"condition\": {\"value\": \"orange\", \"test\": \"(datum.occupied === 1)\"}, \"value\": \"steelblue\"}, \"shape\": {\"value\": \"m 0 0 l 14 -15 a 5 5 0 0 1 9 8 l -14 15 l 9 26 l -4 5 l -12 -22 l -12 12 l 1 5 l -2 3 l -12 -11 l 3 -2 l 5 0 l 9 -14 l -19 -11 l 4 -3 l 22 4\"}, \"text\": {\"type\": \"quantitative\", \"field\": \"id\"}, \"x\": {\"type\": \"ordinal\", \"axis\": null, \"field\": \"col\"}, \"y\": {\"type\": \"ordinal\", \"axis\": null, \"field\": \"row\"}}, \"height\": 700, \"title\": \"Available Parking\", \"transform\": [{\"calculate\": \"ceil(datum.id/5)\", \"as\": \"row\"}, {\"calculate\": \"datum.id - datum.row*5\", \"as\": \"col\"}], \"width\": 700}], \"data\": {\"name\": \"data-f3d6d8fb075e15eab9fa4db99a63e57c\"}, \"$schema\": \"https://vega.github.io/schema/vega-lite/v4.0.2.json\", \"datasets\": {\"data-f3d6d8fb075e15eab9fa4db99a63e57c\": [{\"id\": 1, \"occupied\": 1}, {\"id\": 2, \"occupied\": 0}, {\"id\": 3, \"occupied\": 0}, {\"id\": 4, \"occupied\": 0}, {\"id\": 5, \"occupied\": 0}, {\"id\": 6, \"occupied\": 0}, {\"id\": 7, \"occupied\": 0}, {\"id\": 8, \"occupied\": 1}, {\"id\": 9, \"occupied\": 0}, {\"id\": 10, \"occupied\": 1}, {\"id\": 11, \"occupied\": 0}]}}, {\"mode\": \"vega-lite\"});\n",
       "</script>"
      ],
      "text/plain": [
       "alt.LayerChart(...)"
      ]
     },
     "execution_count": 357,
     "metadata": {},
     "output_type": "execute_result"
    }
   ],
   "source": [
    "data = pd.DataFrame.from_records([\n",
    "      {\"id\": 1, \"occupied\": 1},\n",
    "      {\"id\": 2, \"occupied\": 0},\n",
    "      {\"id\": 3, \"occupied\": 0},\n",
    "      {\"id\": 4, \"occupied\": 0},\n",
    "      {\"id\": 5, \"occupied\": 0},\n",
    "      {\"id\": 6, \"occupied\": 0},\n",
    "      {\"id\": 7, \"occupied\": 0},\n",
    "      {\"id\": 8, \"occupied\": 1},\n",
    "      {\"id\": 9, \"occupied\": 0},\n",
    "      {\"id\": 10, \"occupied\": 1},\n",
    "      {\"id\": 11, \"occupied\": 0},\n",
    "    \n",
    "])\n",
    "\n",
    "person = (\n",
    "    \"m 0 0 l 14 -15 a 5 5 0 0 1 9 8 l -14 15 l 9 26 l -4 5 l -12 -22 l -12 12 l 1 5 l -2 3 l -12 -11 l 3 -2 l 5 0 l 9 -14 l -19 -11 l 4 -3 l 22 4\"\n",
    ")\n",
    "\n",
    "bars = alt.Chart(data).transform_calculate(\n",
    "    row=\"ceil(datum.id/5)\"\n",
    ").transform_calculate(\n",
    "    col=\"datum.id - datum.row*5\"\n",
    ").mark_point(\n",
    "    filled=True,\n",
    "    size=30,\n",
    ").encode(\n",
    "    x=alt.X(\"col:O\", axis=None),\n",
    "    y=alt.Y(\"row:O\", axis=None),\n",
    "    shape=alt.ShapeValue(person),\n",
    "    color = alt.condition(\n",
    "        alt.datum.occupied == 1,\n",
    "        alt.value('orange'),\n",
    "        alt.value('steelblue'),\n",
    "    ),\n",
    ").properties(\n",
    "    width=700,\n",
    "    height=700,\n",
    "    title=\"Available Parking\"\n",
    ")\n",
    "\n",
    "text = bars.mark_text(\n",
    "    align='center',\n",
    "    baseline='middle',\n",
    "    fontSize=25,\n",
    "    dx=-3,\n",
    "    dy=-16  # Nudges text to right so it doesn't appear on top of the bar\n",
    ").encode(\n",
    "    text='id:Q'\n",
    ")\n",
    "\n",
    "text1 = alt.Chart(pd.DataFrame([{}])).encode().properties(title=\"love\")\n",
    "text1\n",
    "bars+text"
   ]
  },
  {
   "cell_type": "code",
   "execution_count": null,
   "metadata": {},
   "outputs": [],
   "source": []
  }
 ],
 "metadata": {
  "kernelspec": {
   "display_name": "Python 3",
   "language": "python",
   "name": "python3"
  },
  "language_info": {
   "codemirror_mode": {
    "name": "ipython",
    "version": 3
   },
   "file_extension": ".py",
   "mimetype": "text/x-python",
   "name": "python",
   "nbconvert_exporter": "python",
   "pygments_lexer": "ipython3",
   "version": "3.7.3"
  }
 },
 "nbformat": 4,
 "nbformat_minor": 4
}
